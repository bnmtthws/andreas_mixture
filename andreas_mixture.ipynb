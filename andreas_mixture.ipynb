{
 "cells": [
  {
   "cell_type": "code",
   "execution_count": 108,
   "metadata": {
    "collapsed": true
   },
   "outputs": [],
   "source": [
    "import numpy as np\n",
    "import pandas as pd\n",
    "import datetime"
   ]
  },
  {
   "cell_type": "code",
   "execution_count": 109,
   "metadata": {
    "collapsed": false
   },
   "outputs": [],
   "source": [
    "descriptors = pd.read_csv('odorDescriptorsFewer.csv')\n",
    "descriptors = descriptors.drop(descriptors.columns[0], axis=1)"
   ]
  },
  {
   "cell_type": "code",
   "execution_count": 110,
   "metadata": {
    "collapsed": false
   },
   "outputs": [],
   "source": [
    "def pick_and_calculate_angle():\n",
    "\n",
    "    currentMix = descriptors.sample(20,replace=False)\n",
    "    mix1_sum = currentMix[0:10].sum()\n",
    "    mix2_sum = currentMix[10:20].sum()\n",
    "    cur_angle = np.arccos( np.dot(mix1_sum,mix2_sum) / (np.sqrt(np.square(mix1_sum).sum())  * np.sqrt(np.square(mix2_sum).sum())))\n",
    "    \n",
    "    return(currentMix.index,cur_angle)\n",
    "    \n"
   ]
  },
  {
   "cell_type": "code",
   "execution_count": 113,
   "metadata": {
    "collapsed": false
   },
   "outputs": [
    {
     "name": "stdout",
     "output_type": "stream",
     "text": [
      "starting at 2016-02-11 12:08:23.888333\n",
      "starting million batch number 0 2016-02-11 12:08:23.888536\n",
      "starting million batch number 1 2016-02-11 12:08:30.876771\n",
      "starting million batch number 2 2016-02-11 12:08:37.653489\n",
      "starting million batch number 3 2016-02-11 12:08:45.112429\n",
      "starting million batch number 4 2016-02-11 12:08:52.182560\n"
     ]
    }
   ],
   "source": [
    "LOW = 0.03\n",
    "HIGH = 0.7\n",
    "\n",
    "print(\"starting at \" + str(datetime.datetime.now()))\n",
    "\n",
    "for i in range(5):\n",
    "    \n",
    "    print(\"starting million batch number \" + str(i) + \" \" + str(datetime.datetime.now()))\n",
    "    \n",
    "    for j in range(1000):\n",
    "\n",
    "        [currentMix,cur_angle] = pick_and_calculate_angle()\n",
    "\n",
    "        if cur_angle > HIGH:\n",
    "            print('got one')\n",
    "            print(currentMix)\n",
    "\n",
    "        elif cur_angle < LOW:\n",
    "            print('got one')\n",
    "            print(\"angular distance \" + str(cur_angle))\n",
    "            print(\"mix1: \" + str(currentMix[0:10]))\n",
    "            print(\"mix2: \" + str(currentMix[10:20]))\n"
   ]
  },
  {
   "cell_type": "code",
   "execution_count": null,
   "metadata": {
    "collapsed": true
   },
   "outputs": [],
   "source": []
  }
 ],
 "metadata": {
  "kernelspec": {
   "display_name": "Python 3",
   "language": "python",
   "name": "python3"
  },
  "language_info": {
   "codemirror_mode": {
    "name": "ipython",
    "version": 3
   },
   "file_extension": ".py",
   "mimetype": "text/x-python",
   "name": "python",
   "nbconvert_exporter": "python",
   "pygments_lexer": "ipython3",
   "version": "3.5.1"
  }
 },
 "nbformat": 4,
 "nbformat_minor": 0
}
