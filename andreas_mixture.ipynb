{
 "cells": [
  {
   "cell_type": "code",
   "execution_count": 147,
   "metadata": {
    "collapsed": true
   },
   "outputs": [],
   "source": [
    "import numpy as np\n",
    "import pandas as pd\n",
    "import datetime\n",
    "\n",
    "%matplotlib inline"
   ]
  },
  {
   "cell_type": "code",
   "execution_count": 109,
   "metadata": {
    "collapsed": false
   },
   "outputs": [],
   "source": [
    "descriptors = pd.read_csv('odorDescriptorsFewer.csv')\n",
    "descriptors = descriptors.drop(descriptors.columns[0], axis=1)"
   ]
  },
  {
   "cell_type": "code",
   "execution_count": 110,
   "metadata": {
    "collapsed": false
   },
   "outputs": [],
   "source": [
    "def pick_and_calculate_angle():\n",
    "\n",
    "    currentMix = descriptors.sample(20,replace=False)\n",
    "    mix1_sum = currentMix[0:10].sum()\n",
    "    mix2_sum = currentMix[10:20].sum()\n",
    "    cur_angle = np.arccos( np.dot(mix1_sum,mix2_sum) / (np.sqrt(np.square(mix1_sum).sum())  * np.sqrt(np.square(mix2_sum).sum())))\n",
    "    \n",
    "    return(currentMix.index,cur_angle)\n",
    "    \n"
   ]
  },
  {
   "cell_type": "code",
   "execution_count": null,
   "metadata": {
    "collapsed": false
   },
   "outputs": [],
   "source": [
    "LOW = 0.03\n",
    "HIGH = 0.7\n",
    "\n",
    "print(\"starting at \" + str(datetime.datetime.now()))\n",
    "\n",
    "for i in range(2):\n",
    "    \n",
    "    print(\"starting million batch number \" + str(i) + \" \" + str(datetime.datetime.now()))\n",
    "    \n",
    "    million_angles = pd.DataFrame(index=range(1000),columns=['ang']) \n",
    "    \n",
    "    for j in range(1000000):\n",
    "\n",
    "        [currentMix,cur_angle] = pick_and_calculate_angle()\n",
    "\n",
    "        if cur_angle > HIGH or cur_angle < LOW:\n",
    "            print('got one')\n",
    "            print(\"angular distance \" + str(cur_angle))\n",
    "            print(\"mix1: \" + str(currentMix[0:10]))\n",
    "            print(\"mix2: \" + str(currentMix[10:20]))\n",
    "            \n",
    "        million_angles['ang'][j] = cur_angle\n",
    "    \n",
    "    million_angles.plot(kind='hist',bins=101,range=(0,1))"
   ]
  },
  {
   "cell_type": "code",
   "execution_count": null,
   "metadata": {
    "collapsed": true
   },
   "outputs": [],
   "source": []
  }
 ],
 "metadata": {
  "kernelspec": {
   "display_name": "Python 3",
   "language": "python",
   "name": "python3"
  },
  "language_info": {
   "codemirror_mode": {
    "name": "ipython",
    "version": 3
   },
   "file_extension": ".py",
   "mimetype": "text/x-python",
   "name": "python",
   "nbconvert_exporter": "python",
   "pygments_lexer": "ipython3",
   "version": "3.5.1"
  }
 },
 "nbformat": 4,
 "nbformat_minor": 0
}
