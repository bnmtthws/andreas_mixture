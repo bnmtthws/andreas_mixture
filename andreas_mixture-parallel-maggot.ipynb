{
 "cells": [
  {
   "cell_type": "code",
   "execution_count": 22,
   "metadata": {
    "collapsed": true
   },
   "outputs": [],
   "source": [
    "import numpy as np\n",
    "import pandas as pd\n",
    "import datetime\n",
    "from ipyparallel import Client"
   ]
  },
  {
   "cell_type": "code",
   "execution_count": 9,
   "metadata": {
    "collapsed": false
   },
   "outputs": [],
   "source": [
    "c = Client(profile='mycluster')\n",
    "v = c[:]"
   ]
  },
  {
   "cell_type": "code",
   "execution_count": 23,
   "metadata": {
    "collapsed": false
   },
   "outputs": [],
   "source": [
    "def pick_and_calculate_angle(rd_num):\n",
    "    \n",
    "    import numpy as np\n",
    "    import pandas as pd\n",
    "    import datetime\n",
    "    from ipyparallel import Client\n",
    "\n",
    "    CYCLES = 100000\n",
    "    \n",
    "    print('working on round number ' + str(rd_num))\n",
    "    output_file = '/scratch/andreas/andreas_mixture/results/all_combos' + str(rd_num) + '.txt'\n",
    "    \n",
    "    descriptors = pd.read_csv('/scratch/andreas/andreas_mixture/odorDescriptorsFewer.csv')\n",
    "    descriptors = descriptors.drop(descriptors.columns[0], axis=1)\n",
    "    \n",
    "    all_angles =  pd.DataFrame(index=range(CYCLES),columns=['ang','mix1','mix2'])\n",
    "    \n",
    "    for i in range(CYCLES):\n",
    "    \n",
    "        currentMix = descriptors.sample(20,replace=False)\n",
    "        mix1_sum = currentMix[0:10].sum()\n",
    "        mix2_sum = currentMix[10:20].sum()\n",
    "        cur_angle = np.arccos( np.dot(mix1_sum,mix2_sum) / (np.sqrt(np.square(mix1_sum).sum())  * np.sqrt(np.square(mix2_sum).sum())))\n",
    "        all_angles['ang'][i] = cur_angle\n",
    "        all_angles['mix1'][i] = currentMix.index[0:10].tolist()\n",
    "        all_angles['mix2'][i] = currentMix.index[10:20].tolist()\n",
    "        \n",
    "   \n",
    "\n",
    "    all_angles[['ang','mix1','mix2']].sort('ang').to_csv(output_file,index=False,header=False)"
   ]
  },
  {
   "cell_type": "code",
   "execution_count": 24,
   "metadata": {
    "collapsed": false,
    "scrolled": true
   },
   "outputs": [],
   "source": [
    "v.map_sync(pick_and_calculate_angle, range(250))"
   ]
  }
 ],
 "metadata": {
  "kernelspec": {
   "display_name": "Python 3",
   "language": "python",
   "name": "python3"
  },
  "language_info": {
   "codemirror_mode": {
    "name": "ipython",
    "version": 3
   },
   "file_extension": ".py",
   "mimetype": "text/x-python",
   "name": "python",
   "nbconvert_exporter": "python",
   "pygments_lexer": "ipython3",
   "version": "3.5.1"
  }
 },
 "nbformat": 4,
 "nbformat_minor": 0
}
